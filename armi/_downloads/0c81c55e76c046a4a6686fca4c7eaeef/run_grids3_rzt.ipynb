{
  "cells": [
    {
      "cell_type": "code",
      "execution_count": null,
      "metadata": {
        "collapsed": false
      },
      "outputs": [],
      "source": [
        "%matplotlib inline"
      ]
    },
    {
      "cell_type": "markdown",
      "metadata": {},
      "source": [
        "\n# Make a Theta-R-Z grid\n\nThis builds a 3-D grid in Theta-R-Z geometry by specifying the theta, r, and z\ndimension bounds explicitly.\n\nLearn more about :py:mod:`grids <armi.reactor.grids>`.\n"
      ]
    },
    {
      "cell_type": "code",
      "execution_count": null,
      "metadata": {
        "collapsed": false
      },
      "outputs": [],
      "source": [
        "import itertools\nimport matplotlib.pyplot as plt\nfrom mpl_toolkits.mplot3d import Axes3D\nimport numpy as np\n\nfrom armi.reactor import grids\nfrom armi import configure\n\nconfigure(permissive=True)\n\nfig = plt.figure()\ntheta = np.linspace(0, 2 * np.pi, 10)\nrad = np.linspace(0, 10, 10)\nz = np.linspace(5, 25, 6)\nrz_grid = grids.ThetaRZGrid(bounds=(theta, rad, z))\n\n\nxyz = []\nfor i, j, k in itertools.product(\n    range(len(theta) - 1), range(len(rad) - 1), range(len(z) - 1)\n):\n    xyz.append(rz_grid[i, j, k].getGlobalCoordinates())\nax = fig.add_subplot(1, 1, 1, projection=\"3d\")\nx, y, z = zip(*xyz)\nax.scatter(x, y, z)\n\nplt.show()"
      ]
    }
  ],
  "metadata": {
    "kernelspec": {
      "display_name": "Python 3",
      "language": "python",
      "name": "python3"
    },
    "language_info": {
      "codemirror_mode": {
        "name": "ipython",
        "version": 3
      },
      "file_extension": ".py",
      "mimetype": "text/x-python",
      "name": "python",
      "nbconvert_exporter": "python",
      "pygments_lexer": "ipython3",
      "version": "3.9.16"
    }
  },
  "nbformat": 4,
  "nbformat_minor": 0
}