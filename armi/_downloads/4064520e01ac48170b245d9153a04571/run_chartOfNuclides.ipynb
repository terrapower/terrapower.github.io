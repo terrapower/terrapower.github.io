{
  "cells": [
    {
      "cell_type": "code",
      "execution_count": null,
      "metadata": {
        "collapsed": false
      },
      "outputs": [],
      "source": [
        "%matplotlib inline"
      ]
    },
    {
      "cell_type": "markdown",
      "metadata": {},
      "source": [
        "\n# Plot a chart of the nuclides\n\nUse the nuclide directory of ARMI to plot a chart of the nuclides\ncoloring the squares with the natural abundance.\n\n.. admonition:: More details\n\n    Our `extended tutorial for nuclides </tutorials/nuclide_demo.ipynb>` and\n    detailed :py:mod:`nucDirectory docs <armi.nucDirectory>` may also be of interest.\n"
      ]
    },
    {
      "cell_type": "code",
      "execution_count": null,
      "metadata": {
        "collapsed": false
      },
      "outputs": [],
      "source": [
        "import matplotlib.pyplot as plt\n\nfrom armi.nucDirectory import nuclideBases\nfrom armi import configure\n\nconfigure(permissive=True)\n\nxyc = []\nfor name, base in nuclideBases.byName.items():\n    if not base.a:\n        continue\n    xyc.append((base.a - base.z, base.z, base.abundance or 0.5))\nx, y, c = zip(*xyc)\nplt.figure(figsize=(12, 8))\nplt.scatter(x, y, c=c, marker=\"s\", s=6)\nplt.title(\"Chart of the nuclides\")\nplt.xlabel(\"Number of neutrons (N)\")\nplt.ylabel(\"Number of protons (Z)\")\nplt.show()"
      ]
    }
  ],
  "metadata": {
    "kernelspec": {
      "display_name": "Python 3",
      "language": "python",
      "name": "python3"
    },
    "language_info": {
      "codemirror_mode": {
        "name": "ipython",
        "version": 3
      },
      "file_extension": ".py",
      "mimetype": "text/x-python",
      "name": "python",
      "nbconvert_exporter": "python",
      "pygments_lexer": "ipython3",
      "version": "3.8.12"
    }
  },
  "nbformat": 4,
  "nbformat_minor": 0
}