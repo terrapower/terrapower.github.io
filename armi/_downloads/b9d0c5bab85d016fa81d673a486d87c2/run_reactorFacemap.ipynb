{
  "cells": [
    {
      "cell_type": "code",
      "execution_count": null,
      "metadata": {
        "collapsed": false
      },
      "outputs": [],
      "source": [
        "%matplotlib inline"
      ]
    },
    {
      "cell_type": "markdown",
      "metadata": {},
      "source": [
        "\n# Plot a reactor facemap\n\nLoad a test reactor from the test suite and plot a dummy\npower distribution from it. You can plot any block parameter.\n"
      ]
    },
    {
      "cell_type": "code",
      "execution_count": null,
      "metadata": {
        "collapsed": false
      },
      "outputs": [],
      "source": [
        "import logging\n\nfrom armi.reactor.tests import test_reactors\nfrom armi.utils import plotting\nfrom armi import configure, runLog\n\n# init ARMI logging tools\nlogging.setLoggerClass(runLog.RunLogger)\n\n# configure ARMI\nconfigure(permissive=True)\n\noperator, reactor = test_reactors.loadTestReactor()\nreactor.core.growToFullCore(None)\n# set dummy power\nfor b in reactor.core.getBlocks():\n    x, y, z = b.spatialLocator.getGlobalCoordinates()\n    b.p.pdens = x ** 2 + y ** 2 + z ** 2\n\nplotting.plotFaceMap(reactor.core, param=\"pdens\", labelFmt=\"{0:.1e}\")"
      ]
    }
  ],
  "metadata": {
    "kernelspec": {
      "display_name": "Python 3",
      "language": "python",
      "name": "python3"
    },
    "language_info": {
      "codemirror_mode": {
        "name": "ipython",
        "version": 3
      },
      "file_extension": ".py",
      "mimetype": "text/x-python",
      "name": "python",
      "nbconvert_exporter": "python",
      "pygments_lexer": "ipython3",
      "version": "3.8.12"
    }
  },
  "nbformat": 4,
  "nbformat_minor": 0
}