{
  "cells": [
    {
      "cell_type": "code",
      "execution_count": null,
      "metadata": {
        "collapsed": false
      },
      "outputs": [],
      "source": [
        "%matplotlib inline"
      ]
    },
    {
      "cell_type": "markdown",
      "metadata": {},
      "source": [
        "\n# Fuel management in a LWR\n\nDemo of locating and swapping assemblies in a core with Cartesian geometry. Given a burnup\ndistribution, this swaps high burnup assemblies with low ones.\n\nAssembly selection for moving and swapping is very flexible using the ARMI API and the\nhigh-level language features of Python. This allows highly complex fuel management\nalgorithms to be expressed and parameterized.\n\nBecause the ARMI framework does not come with a LWR global flux/depletion solver, actual\nflux/depletion results would need to be provided by a physics plugin before actually using\nARMI to do fuel management. Thus, this example applies a dummy burnup distribution for\ndemonstration purposes.\n"
      ]
    },
    {
      "cell_type": "code",
      "execution_count": null,
      "metadata": {
        "collapsed": false
      },
      "outputs": [],
      "source": [
        "# Tell the gallery to feature the 2nd image\n# sphinx_gallery_thumbnail_number = 2\nimport math\n\nfrom armi.reactor.flags import Flags\nfrom armi.reactor.tests import test_reactors\nfrom armi.physics.fuelCycle import fuelHandlers\nfrom armi.utils import plotting\n\nfrom armi import configure, runLog\n\n# configure ARMI\nconfigure(permissive=True)\n\no, reactor = test_reactors.loadTestReactor(inputFileName=\"refTestCartesian.yaml\")\n\n# Apply a dummy burnup distribution roughly in a cosine\nfor b in reactor.core.getBlocks(Flags.FUEL):\n    x, y, z = b.spatialLocator.getGlobalCoordinates()\n    d = math.sqrt(x ** 2 + y ** 2)\n    b.p.percentBu = 5 * math.cos(d * math.pi / 2 / 90)\n\n# show the initial burnup distribution\nplotting.plotFaceMap(reactor.core, param=\"percentBu\")\n\nfuelHandler = fuelHandlers.FuelHandler(o)\n\ncandidateAssems = reactor.core.getAssemblies(Flags.FUEL)\ncriterion = lambda a: a.getMaxParam(\"percentBu\")\ncandidateAssems.sort(key=criterion)\n\nfor num in range(12):\n    # swap the 12 highest burnup assemblies with the 12 lowest burnup ones\n    high = candidateAssems.pop()\n    low = candidateAssems.pop(0)\n    fuelHandler.swapAssemblies(high, low)\n\n# re-filter the remaining candidates for more complex selections\ncandidateAssems = [a for a in candidateAssems if a.getMaxParam(\"percentBu\") < 4.0]\nfor num in range(8):\n    high = candidateAssems.pop()\n    low = candidateAssems.pop(0)\n    fuelHandler.swapAssemblies(high, low)\n\n# show final burnup distribution\nplotting.plotFaceMap(reactor.core, param=\"percentBu\")"
      ]
    }
  ],
  "metadata": {
    "kernelspec": {
      "display_name": "Python 3",
      "language": "python",
      "name": "python3"
    },
    "language_info": {
      "codemirror_mode": {
        "name": "ipython",
        "version": 3
      },
      "file_extension": ".py",
      "mimetype": "text/x-python",
      "name": "python",
      "nbconvert_exporter": "python",
      "pygments_lexer": "ipython3",
      "version": "3.8.13"
    }
  },
  "nbformat": 4,
  "nbformat_minor": 0
}