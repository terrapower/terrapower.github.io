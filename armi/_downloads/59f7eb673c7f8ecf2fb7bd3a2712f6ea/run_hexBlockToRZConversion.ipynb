{
  "cells": [
    {
      "cell_type": "code",
      "execution_count": null,
      "metadata": {
        "collapsed": false
      },
      "outputs": [],
      "source": [
        "%matplotlib inline"
      ]
    },
    {
      "cell_type": "markdown",
      "metadata": {},
      "source": [
        "\n# Hex block to RZ geometry conversion\nOften, parts of a reactor model must be transformed to a different geometry in order to\nperform a certain type of physics calculation. For example, in some fast reactor lattice\nphysics calculations, detailed descriptions of control assemblies must be mapped to\nequivalent 1-D cylindrical models.\n\nThis example shows how a control assembly defined in full hex-pin detail can be\nautomatically converted to an equivalent 1-D RZ case, including an outer ring of fuel to\ndrive the case.\n\nThis conversion includes rings for control material, gap, cladding (on both sides of each\nring of control material), coolant, duct, and fuel. The color of the plot is proportional\nto the mass density.\n\nGiven this transformation, a 1-D lattice physics solver can be executed to compute\naccurate cross sections.\n\nBy automating these kinds of geometry conversions, ARMI allows core designers to maintain\nthe design in real geometry while still performing appropriate approximations for\nefficient analysis.\n\n<div class=\"alert alert-danger\"><h4>Warning</h4><p>This uses :py:mod:`armi.reactor.converters.blockConverters`, which\n    currently only works on a constrained set of hex-based geometries. For your systems,\n    consider these an example and starting point and build your own converters as\n    appropriate.</p></div>\n"
      ]
    },
    {
      "cell_type": "code",
      "execution_count": null,
      "metadata": {
        "collapsed": false
      },
      "outputs": [],
      "source": [
        "from armi.reactor.tests import test_reactors\nfrom armi.reactor.flags import Flags\nfrom armi.reactor.converters import blockConverters\nfrom armi import configure, runLog\n\n# configure ARMI\nconfigure(permissive=True)\n\n_o, r = test_reactors.loadTestReactor()\n\nbFuel = r.core.getBlocks(Flags.FUEL)[0]\nbControl = r.core.getBlocks(Flags.CONTROL)[0]\nconverter = blockConverters.HexComponentsToCylConverter(\n    sourceBlock=bControl, driverFuelBlock=bFuel, numExternalRings=1\n)\nconverter.convert()\nconverter.plotConvertedBlock()"
      ]
    }
  ],
  "metadata": {
    "kernelspec": {
      "display_name": "Python 3",
      "language": "python",
      "name": "python3"
    },
    "language_info": {
      "codemirror_mode": {
        "name": "ipython",
        "version": 3
      },
      "file_extension": ".py",
      "mimetype": "text/x-python",
      "name": "python",
      "nbconvert_exporter": "python",
      "pygments_lexer": "ipython3",
      "version": "3.8.13"
    }
  },
  "nbformat": 4,
  "nbformat_minor": 0
}