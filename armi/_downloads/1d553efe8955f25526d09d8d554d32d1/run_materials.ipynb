{
  "cells": [
    {
      "cell_type": "code",
      "execution_count": null,
      "metadata": {
        "collapsed": false
      },
      "outputs": [],
      "source": [
        "%matplotlib inline"
      ]
    },
    {
      "cell_type": "markdown",
      "metadata": {},
      "source": [
        "\n# Listing of Material Library\n\nThis is a listing of all the elements in all the materials that are included in the ARMI\nmaterial library. Many of the materials in this library are academic in quality and\ncontents. Some have temperature dependent properties, but some don't. You can provide\nyour own proprietary material properties via a plugin.\n\nMore info about the materials here: :py:mod:`armi.materials`.\n"
      ]
    },
    {
      "cell_type": "code",
      "execution_count": null,
      "metadata": {
        "collapsed": false
      },
      "outputs": [],
      "source": [
        "import numpy as np\nimport matplotlib.pyplot as plt\n\nfrom armi import configure, materials\nfrom armi.nucDirectory import nuclideBases\n\nMAX_Z = 96  # stop at Curium\n\nconfigure(permissive=True)\n\nmaterialNames = []\nmats = list(materials.iterAllMaterialClassesInNamespace(materials))\nnumMats = len(mats)\n\nzVals = np.zeros((numMats, MAX_Z))\n\nfor mi, matCls in enumerate(mats):\n    m = matCls()\n    materialNames.append(m.name)\n    for nucName, frac in m.p.massFrac.items():\n        nb = nuclideBases.byName[nucName]\n        idx = mi, nb.z - 1\n        zVals[idx] += frac\n\nfig, ax = plt.subplots(figsize=(16, 12))\nim = ax.imshow(zVals, cmap=\"YlGn\")\n\nax.set_xticks(np.arange(MAX_Z))\nax.set_yticks(np.arange(numMats))\nax.set_xticklabels(np.arange(MAX_Z) + 1, fontsize=6)\nax.set_yticklabels(materialNames)\nax.set_xlabel(\"Proton number (Z)\")\nax.grid(alpha=0.2, ls=\"--\")\n\nax.set_title(\"Mass fractions in the ARMI material library\")\nplt.show()"
      ]
    }
  ],
  "metadata": {
    "kernelspec": {
      "display_name": "Python 3",
      "language": "python",
      "name": "python3"
    },
    "language_info": {
      "codemirror_mode": {
        "name": "ipython",
        "version": 3
      },
      "file_extension": ".py",
      "mimetype": "text/x-python",
      "name": "python",
      "nbconvert_exporter": "python",
      "pygments_lexer": "ipython3",
      "version": "3.8.13"
    }
  },
  "nbformat": 4,
  "nbformat_minor": 0
}