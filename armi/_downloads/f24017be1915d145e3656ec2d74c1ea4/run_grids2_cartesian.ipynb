{
  "cells": [
    {
      "cell_type": "markdown",
      "metadata": {},
      "source": [
        "\n# Make a Cartesian grid.\n\nThis builds a Cartesian grid with squares 1 cm square, with the z-coordinates\nprovided explicitly. It is also offset in 3D space to X, Y, Z = 10, 5, 5 cm.\n\nLearn more about :py:mod:`grids <armi.reactor.grids>`.\n"
      ]
    },
    {
      "cell_type": "code",
      "execution_count": null,
      "metadata": {
        "collapsed": false
      },
      "outputs": [],
      "source": [
        "import itertools\n\nimport matplotlib.pyplot as plt\n\nfrom armi import configure\nfrom armi.reactor import grids\n\nconfigure(permissive=True)\n\nfig = plt.figure()\nzCoords = [1, 4, 8]\ncartesian_grid = grids.CartesianGrid(\n    unitSteps=((1, 0), (0, 1)),\n    bounds=(None, None, zCoords),\n    offset=(10, 5, 5),\n)\nxyz = []\n\n# the grid is infinite in i and j so we will just plot the first 10 items\nfor i, j, k in itertools.product(range(10), range(10), range(len(zCoords) - 1)):\n    xyz.append(cartesian_grid[i, j, k].getGlobalCoordinates())\nax = fig.add_subplot(1, 1, 1, projection=\"3d\")\nx, y, z = zip(*xyz)\nax.scatter(x, y, z)\nplt.show()"
      ]
    }
  ],
  "metadata": {
    "kernelspec": {
      "display_name": "Python 3",
      "language": "python",
      "name": "python3"
    },
    "language_info": {
      "codemirror_mode": {
        "name": "ipython",
        "version": 3
      },
      "file_extension": ".py",
      "mimetype": "text/x-python",
      "name": "python",
      "nbconvert_exporter": "python",
      "pygments_lexer": "ipython3",
      "version": "3.9.17"
    }
  },
  "nbformat": 4,
  "nbformat_minor": 0
}