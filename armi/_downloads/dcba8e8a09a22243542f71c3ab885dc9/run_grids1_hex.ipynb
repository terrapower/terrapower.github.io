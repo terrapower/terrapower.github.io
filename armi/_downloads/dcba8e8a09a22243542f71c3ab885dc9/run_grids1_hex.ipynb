{
  "cells": [
    {
      "cell_type": "code",
      "execution_count": null,
      "metadata": {
        "collapsed": false
      },
      "outputs": [],
      "source": [
        "%matplotlib inline"
      ]
    },
    {
      "cell_type": "markdown",
      "metadata": {},
      "source": [
        "\n# Make a hex grid\n\nThis uses a grid factory method to build an infinite 2-D grid of hexagons with pitch\nequal to 1.0 cm. \n\nLearn more about :py:mod:`grids <armi.reactor.grids>`.\n"
      ]
    },
    {
      "cell_type": "code",
      "execution_count": null,
      "metadata": {
        "collapsed": false
      },
      "outputs": [],
      "source": [
        "import math\n\nimport matplotlib.pyplot as plt\nimport matplotlib.patches as mpatches\nfrom matplotlib.collections import PatchCollection\n\nfrom armi.reactor import grids\nfrom armi import configure\n\nconfigure(permissive=True)\n\nhexes = grids.HexGrid.fromPitch(1.0)\n\nfig = plt.figure()\nxyz = []\npolys = []\nax = fig.add_subplot(1, 1, 1)\nfor hex_i in hexes.generateSortedHexLocationList(127):\n    x, y, z = hex_i.getGlobalCoordinates()\n    ax.text(x, y, f\"{hex_i.i},{hex_i.j}\", ha=\"center\", va=\"center\")\n    polys.append(\n        mpatches.RegularPolygon(\n            (x, y), numVertices=6, radius=1 / math.sqrt(3), orientation=math.pi / 2\n        )\n    )\npatches = PatchCollection(polys, fc=\"white\", ec=\"k\")\nax.add_collection(patches)\nax.set_title(\"(i, j) indices for a hex grid\")\nax.set_xlim([-7, 7])\nax.set_ylim([-7, 7])\nplt.show()"
      ]
    }
  ],
  "metadata": {
    "kernelspec": {
      "display_name": "Python 3",
      "language": "python",
      "name": "python3"
    },
    "language_info": {
      "codemirror_mode": {
        "name": "ipython",
        "version": 3
      },
      "file_extension": ".py",
      "mimetype": "text/x-python",
      "name": "python",
      "nbconvert_exporter": "python",
      "pygments_lexer": "ipython3",
      "version": "3.8.12"
    }
  },
  "nbformat": 4,
  "nbformat_minor": 0
}