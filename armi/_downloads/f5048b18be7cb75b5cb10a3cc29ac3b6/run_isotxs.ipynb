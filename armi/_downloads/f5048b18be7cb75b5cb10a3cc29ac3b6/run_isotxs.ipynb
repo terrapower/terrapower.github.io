{
  "cells": [
    {
      "cell_type": "markdown",
      "metadata": {},
      "source": [
        "\n# Plotting Multi-group XS from ISOTXS.\n\nIn this example, several cross sections are plotted from\nan existing binary cross section library file in :py:mod:`ISOTXS <armi.nuclearDataIO.isotxs>` format.\n"
      ]
    },
    {
      "cell_type": "code",
      "execution_count": null,
      "metadata": {
        "collapsed": false
      },
      "outputs": [],
      "source": [
        "import matplotlib.pyplot as plt\n\nfrom armi.physics.neutronics import energyGroups\nfrom armi.tests import ISOAA_PATH\nfrom armi.nuclearDataIO.cccc import isotxs\nfrom armi import configure\n\nconfigure(permissive=True)\n\ngs = energyGroups.getGroupStructure(\"ANL33\")\nlib = isotxs.readBinary(ISOAA_PATH)\n\nfe56 = lib.getNuclide(\"FE\", \"AA\")\nu235 = lib.getNuclide(\"U235\", \"AA\")\nu238 = lib.getNuclide(\"U238\", \"AA\")\nb10 = lib.getNuclide(\"B10\", \"AA\")\n\nplt.step(gs, fe56.micros.nGamma, label=r\"Fe (n, $\\gamma$)\")\nplt.step(gs, u235.micros.fission, label=\"U-235 (n, fission)\")\nplt.step(gs, u238.micros.nGamma, label=r\"U-238 (n, $\\gamma$)\")\nplt.step(gs, b10.micros.nalph, label=r\"B-10 (n, $\\alpha$)\")\n\nplt.xscale(\"log\")\nplt.yscale(\"log\")\nplt.xlabel(\"Neutron Energy, eV\")\nplt.ylabel(\"Cross Section, barns\")\nplt.grid(alpha=0.2)\nplt.legend()\n\nplt.show()"
      ]
    }
  ],
  "metadata": {
    "kernelspec": {
      "display_name": "Python 3",
      "language": "python",
      "name": "python3"
    },
    "language_info": {
      "codemirror_mode": {
        "name": "ipython",
        "version": 3
      },
      "file_extension": ".py",
      "mimetype": "text/x-python",
      "name": "python",
      "nbconvert_exporter": "python",
      "pygments_lexer": "ipython3",
      "version": "3.9.17"
    }
  },
  "nbformat": 4,
  "nbformat_minor": 0
}