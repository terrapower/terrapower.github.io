{
 "cells": [
  {
   "cell_type": "markdown",
   "metadata": {},
   "source": [
    "# Parameter sweeps\n",
    "Parameter sweeps allow you to quickly and easily build a series of related cases that all change one or more aspects of the input model or modeling approximations. Because ARMI automates full-scope engineering analysis, ARMI-driven parameter sweeps are extremely useful for design exploration, sensitivity studies, and statistical analysis. \n",
    "\n",
    "To get started with a parameter sweep, you first need some inputs. "
   ]
  },
  {
   "cell_type": "raw",
   "metadata": {
    "raw_mimetype": "text/restructuredtext"
   },
   "source": [
    "* :download:`Blueprints <anl-afci-177-blueprints.yaml>`\n",
    "* :download:`Settings <anl-afci-177.yaml>`\n",
    "* :download:`Core map <anl-afci-177-coreMap.yaml>`\n",
    "* :download:`Fuel management <anl-afci-177-fuelManagement.py>`"
   ]
  },
  {
   "cell_type": "markdown",
   "metadata": {},
   "source": [
    "Next, you need an app and a `Case` object as the starting point. "
   ]
  },
  {
   "cell_type": "code",
   "execution_count": 1,
   "metadata": {
    "execution": {
     "iopub.execute_input": "2025-08-06T15:36:20.007490Z",
     "iopub.status.busy": "2025-08-06T15:36:20.007300Z",
     "iopub.status.idle": "2025-08-06T15:36:21.959936Z",
     "shell.execute_reply": "2025-08-06T15:36:21.959258Z"
    }
   },
   "outputs": [
    {
     "name": "stdout",
     "output_type": "stream",
     "text": [
      "\n",
      "       +===================================================+\n",
      "       |            _      ____     __  __    ___          |\n",
      "       |           / \\    |  _ \\   |  \\/  |  |_ _|         |\n",
      "       |          / _ \\   | |_) |  | |\\/| |   | |          |\n",
      "       |         / ___ \\  |  _ <   | |  | |   | |          |\n",
      "       |        /_/   \\_\\ |_| \\_\\  |_|  |_|  |___|         |\n",
      "       |        Advanced  Reactor  Modeling Interface      |\n",
      "       |                                                   |\n",
      "       |                    version 0.5.1                  |\n",
      "       |                                                   |\n",
      "       +===================================================+\n"
     ]
    }
   ],
   "source": [
    "# you can only configure an app once\n",
    "import armi\n",
    "\n",
    "if not armi.isConfigured():\n",
    "    armi.configure(armi.apps.App())"
   ]
  },
  {
   "cell_type": "code",
   "execution_count": 2,
   "metadata": {
    "execution": {
     "iopub.execute_input": "2025-08-06T15:36:21.962086Z",
     "iopub.status.busy": "2025-08-06T15:36:21.961740Z",
     "iopub.status.idle": "2025-08-06T15:36:22.025485Z",
     "shell.execute_reply": "2025-08-06T15:36:22.024820Z"
    }
   },
   "outputs": [],
   "source": [
    "from armi import cases, settings\n",
    "from armi.cases import suiteBuilder\n",
    "from armi.cases.inputModifiers import inputModifiers\n",
    "\n",
    "cs = settings.Settings(\"../anl-afci-177/anl-afci-177.yaml\")\n",
    "case = cases.Case(cs)"
   ]
  },
  {
   "cell_type": "markdown",
   "metadata": {},
   "source": [
    "Next, you make a SuiteBuilder, which is the thing that will perturb the input files to generate a suite of related cases from the base case. There are two basic choices, the `FullFactorialSuiteBuilder` which will expand each degree of freedom in every combination (a full multi-dimensional matrix), and the `SeparateEffectsSuiteBuilder` builder, which varies each degree of freedom in isolation. We'll make a FullFactorial case for this demo.\n",
    "\n",
    "Once you have a `SuiteBuilder`, you start adding one or more degrees of freedom, each of which will adjust one aspect of the input definitions (modeling options, reactor design, etc.).\n"
   ]
  },
  {
   "cell_type": "raw",
   "metadata": {
    "raw_mimetype": "text/restructuredtext"
   },
   "source": [
    ".. note:: You may also find the :py:mod:`more detailed API documentation useful<armi.cases.suiteBuilder>`. "
   ]
  },
  {
   "cell_type": "markdown",
   "metadata": {},
   "source": [
    "## A simple one-dimensional parameter sweep"
   ]
  },
  {
   "cell_type": "code",
   "execution_count": 3,
   "metadata": {
    "execution": {
     "iopub.execute_input": "2025-08-06T15:36:22.027479Z",
     "iopub.status.busy": "2025-08-06T15:36:22.027288Z",
     "iopub.status.idle": "2025-08-06T15:36:22.029816Z",
     "shell.execute_reply": "2025-08-06T15:36:22.029358Z"
    }
   },
   "outputs": [],
   "source": [
    "builder = suiteBuilder.SeparateEffectsSuiteBuilder(case)"
   ]
  },
  {
   "cell_type": "markdown",
   "metadata": {},
   "source": [
    "Each degree of freedom is defined by an `InputModifier` and a range of values. ARMI contains a few basic `InputModifier` for simple things (like changing settings), and for design-specific param sweeps you can make your own design-specific modifiers. \n",
    "\n",
    "The simplest form of parameter sweep just adjusts settings. For example, we could adjust the reactor power from 10 MW to 100 MW in a few steps. "
   ]
  },
  {
   "cell_type": "code",
   "execution_count": 4,
   "metadata": {
    "execution": {
     "iopub.execute_input": "2025-08-06T15:36:22.031421Z",
     "iopub.status.busy": "2025-08-06T15:36:22.031239Z",
     "iopub.status.idle": "2025-08-06T15:36:22.035634Z",
     "shell.execute_reply": "2025-08-06T15:36:22.035149Z"
    }
   },
   "outputs": [
    {
     "name": "stdout",
     "output_type": "stream",
     "text": [
      "Building power modifiers with powers: [ 10.  40.  70. 100.]\n",
      "There are 4 cases in this suite so far.\n"
     ]
    }
   ],
   "source": [
    "import numpy as np\n",
    "\n",
    "powers = np.linspace(10, 100, 4)\n",
    "print(f\"Building power modifiers with powers: {powers}\")\n",
    "powerModifications = [inputModifiers.SettingsModifier(\"power\", mw * 1e6) for mw in powers]\n",
    "builder.addDegreeOfFreedom(powerModifications)\n",
    "print(f\"There are {len(builder.modifierSets)} cases in this suite so far.\")"
   ]
  },
  {
   "cell_type": "markdown",
   "metadata": {},
   "source": [
    "Now we can build the suite. The `Suite` object itself can write input files or just run on the local computer with `suite.run`.\n",
    "\n",
    "The suite will generate copies of the base case with the power modified across the defined range. "
   ]
  },
  {
   "cell_type": "code",
   "execution_count": 5,
   "metadata": {
    "execution": {
     "iopub.execute_input": "2025-08-06T15:36:22.037283Z",
     "iopub.status.busy": "2025-08-06T15:36:22.037100Z",
     "iopub.status.idle": "2025-08-06T15:36:22.830268Z",
     "shell.execute_reply": "2025-08-06T15:36:22.829765Z"
    }
   },
   "outputs": [
    {
     "name": "stdout",
     "output_type": "stream",
     "text": [
      "[info] Will expand HE, NA, AL, SI, V, CR, MN, FE, CO, NI, ZR, NB, MO, W elementals to have natural isotopics\n"
     ]
    },
    {
     "name": "stdout",
     "output_type": "stream",
     "text": [
      "[info] Constructing assembly `inner fuel`\n"
     ]
    },
    {
     "name": "stdout",
     "output_type": "stream",
     "text": [
      "[warn] Some component was missing in <reflector block-bol-000 at ExCore XS: A ENV GP: A> so pin-to-duct gap not calculated\n"
     ]
    },
    {
     "name": "stdout",
     "output_type": "stream",
     "text": [
      "[warn] The gap between wire wrap and clad in block <plenum block-bol-006 at ExCore XS: A ENV GP: A> was 3.999999999998449e-05 cm. Expected 0.0.\n"
     ]
    },
    {
     "name": "stdout",
     "output_type": "stream",
     "text": [
      "[info] Constructing assembly `middle core fuel`\n"
     ]
    },
    {
     "name": "stdout",
     "output_type": "stream",
     "text": [
      "[warn] Some component was missing in <reflector block-bol-000 at ExCore XS: B ENV GP: A> so pin-to-duct gap not calculated\n"
     ]
    },
    {
     "name": "stdout",
     "output_type": "stream",
     "text": [
      "[warn] The gap between wire wrap and clad in block <plenum block-bol-006 at ExCore XS: B ENV GP: A> was 3.999999999998449e-05 cm. Expected 0.0.\n"
     ]
    },
    {
     "name": "stdout",
     "output_type": "stream",
     "text": [
      "[info] Constructing assembly `outer core fuel`\n"
     ]
    },
    {
     "name": "stdout",
     "output_type": "stream",
     "text": [
      "[warn] Some component was missing in <reflector block-bol-000 at ExCore XS: C ENV GP: A> so pin-to-duct gap not calculated\n"
     ]
    },
    {
     "name": "stdout",
     "output_type": "stream",
     "text": [
      "[warn] The gap between wire wrap and clad in block <plenum block-bol-006 at ExCore XS: C ENV GP: A> was 3.999999999998449e-05 cm. Expected 0.0.\n"
     ]
    },
    {
     "name": "stdout",
     "output_type": "stream",
     "text": [
      "[info] Constructing assembly `radial reflector`\n"
     ]
    },
    {
     "name": "stdout",
     "output_type": "stream",
     "text": [
      "[warn] Some component was missing in <reflector block-bol-000 at ExCore XS: A ENV GP: A> so pin-to-duct gap not calculated\n"
     ]
    },
    {
     "name": "stdout",
     "output_type": "stream",
     "text": [
      "[info] Constructing assembly `radial shield`\n"
     ]
    },
    {
     "name": "stdout",
     "output_type": "stream",
     "text": [
      "[warn] Temperature 597.0 out of range (25 to 500) for B4C linear expansion percent\n"
     ]
    },
    {
     "name": "stdout",
     "output_type": "stream",
     "text": [
      "[info] Constructing assembly `control`\n"
     ]
    },
    {
     "name": "stdout",
     "output_type": "stream",
     "text": [
      "[info] Constructing assembly `ultimate shutdown`\n"
     ]
    },
    {
     "name": "stdout",
     "output_type": "stream",
     "text": [
      "=========== Verifying Assembly Configurations ===========\n"
     ]
    },
    {
     "name": "stdout",
     "output_type": "stream",
     "text": [
      "[info] Will expand HE, NA, AL, SI, V, CR, MN, FE, CO, NI, ZR, NB, MO, W elementals to have natural isotopics\n"
     ]
    },
    {
     "name": "stdout",
     "output_type": "stream",
     "text": [
      "[info] Constructing assembly `inner fuel`\n"
     ]
    },
    {
     "name": "stdout",
     "output_type": "stream",
     "text": [
      "[warn] Some component was missing in <reflector block-bol-000 at ExCore XS: A ENV GP: A> so pin-to-duct gap not calculated\n"
     ]
    },
    {
     "name": "stdout",
     "output_type": "stream",
     "text": [
      "[info] Constructing assembly `middle core fuel`\n"
     ]
    },
    {
     "name": "stdout",
     "output_type": "stream",
     "text": [
      "[warn] Some component was missing in <reflector block-bol-000 at ExCore XS: B ENV GP: A> so pin-to-duct gap not calculated\n"
     ]
    },
    {
     "name": "stdout",
     "output_type": "stream",
     "text": [
      "[info] Constructing assembly `outer core fuel`\n"
     ]
    },
    {
     "name": "stdout",
     "output_type": "stream",
     "text": [
      "[warn] Some component was missing in <reflector block-bol-000 at ExCore XS: C ENV GP: A> so pin-to-duct gap not calculated\n"
     ]
    },
    {
     "name": "stdout",
     "output_type": "stream",
     "text": [
      "[info] Constructing assembly `radial reflector`\n"
     ]
    },
    {
     "name": "stdout",
     "output_type": "stream",
     "text": [
      "[warn] Some component was missing in <reflector block-bol-000 at ExCore XS: A ENV GP: A> so pin-to-duct gap not calculated\n"
     ]
    },
    {
     "name": "stdout",
     "output_type": "stream",
     "text": [
      "[info] Constructing assembly `radial shield`\n"
     ]
    },
    {
     "name": "stdout",
     "output_type": "stream",
     "text": [
      "[info] Constructing assembly `control`\n"
     ]
    },
    {
     "name": "stdout",
     "output_type": "stream",
     "text": [
      "[info] Constructing assembly `ultimate shutdown`\n"
     ]
    },
    {
     "name": "stdout",
     "output_type": "stream",
     "text": [
      "=========== Verifying Assembly Configurations ===========\n"
     ]
    },
    {
     "name": "stdout",
     "output_type": "stream",
     "text": [
      "[info] Will expand HE, NA, AL, SI, V, CR, MN, FE, CO, NI, ZR, NB, MO, W elementals to have natural isotopics\n"
     ]
    },
    {
     "name": "stdout",
     "output_type": "stream",
     "text": [
      "[info] Constructing assembly `inner fuel`\n"
     ]
    },
    {
     "name": "stdout",
     "output_type": "stream",
     "text": [
      "[warn] Some component was missing in <reflector block-bol-000 at ExCore XS: A ENV GP: A> so pin-to-duct gap not calculated\n"
     ]
    },
    {
     "name": "stdout",
     "output_type": "stream",
     "text": [
      "[info] Constructing assembly `middle core fuel`\n"
     ]
    },
    {
     "name": "stdout",
     "output_type": "stream",
     "text": [
      "[warn] Some component was missing in <reflector block-bol-000 at ExCore XS: B ENV GP: A> so pin-to-duct gap not calculated\n"
     ]
    },
    {
     "name": "stdout",
     "output_type": "stream",
     "text": [
      "[info] Constructing assembly `outer core fuel`\n"
     ]
    },
    {
     "name": "stdout",
     "output_type": "stream",
     "text": [
      "[warn] Some component was missing in <reflector block-bol-000 at ExCore XS: C ENV GP: A> so pin-to-duct gap not calculated\n"
     ]
    },
    {
     "name": "stdout",
     "output_type": "stream",
     "text": [
      "[info] Constructing assembly `radial reflector`\n"
     ]
    },
    {
     "name": "stdout",
     "output_type": "stream",
     "text": [
      "[warn] Some component was missing in <reflector block-bol-000 at ExCore XS: A ENV GP: A> so pin-to-duct gap not calculated\n"
     ]
    },
    {
     "name": "stdout",
     "output_type": "stream",
     "text": [
      "[info] Constructing assembly `radial shield`\n"
     ]
    },
    {
     "name": "stdout",
     "output_type": "stream",
     "text": [
      "[info] Constructing assembly `control`\n"
     ]
    },
    {
     "name": "stdout",
     "output_type": "stream",
     "text": [
      "[info] Constructing assembly `ultimate shutdown`\n"
     ]
    },
    {
     "name": "stdout",
     "output_type": "stream",
     "text": [
      "=========== Verifying Assembly Configurations ===========\n"
     ]
    },
    {
     "name": "stdout",
     "output_type": "stream",
     "text": [
      "[info] Will expand HE, NA, AL, SI, V, CR, MN, FE, CO, NI, ZR, NB, MO, W elementals to have natural isotopics\n"
     ]
    },
    {
     "name": "stdout",
     "output_type": "stream",
     "text": [
      "[info] Constructing assembly `inner fuel`\n"
     ]
    },
    {
     "name": "stdout",
     "output_type": "stream",
     "text": [
      "[warn] Some component was missing in <reflector block-bol-000 at ExCore XS: A ENV GP: A> so pin-to-duct gap not calculated\n"
     ]
    },
    {
     "name": "stdout",
     "output_type": "stream",
     "text": [
      "[info] Constructing assembly `middle core fuel`\n"
     ]
    },
    {
     "name": "stdout",
     "output_type": "stream",
     "text": [
      "[warn] Some component was missing in <reflector block-bol-000 at ExCore XS: B ENV GP: A> so pin-to-duct gap not calculated\n"
     ]
    },
    {
     "name": "stdout",
     "output_type": "stream",
     "text": [
      "[info] Constructing assembly `outer core fuel`\n"
     ]
    },
    {
     "name": "stdout",
     "output_type": "stream",
     "text": [
      "[warn] Some component was missing in <reflector block-bol-000 at ExCore XS: C ENV GP: A> so pin-to-duct gap not calculated\n"
     ]
    },
    {
     "name": "stdout",
     "output_type": "stream",
     "text": [
      "[info] Constructing assembly `radial reflector`\n"
     ]
    },
    {
     "name": "stdout",
     "output_type": "stream",
     "text": [
      "[warn] Some component was missing in <reflector block-bol-000 at ExCore XS: A ENV GP: A> so pin-to-duct gap not calculated\n"
     ]
    },
    {
     "name": "stdout",
     "output_type": "stream",
     "text": [
      "[info] Constructing assembly `radial shield`\n"
     ]
    },
    {
     "name": "stdout",
     "output_type": "stream",
     "text": [
      "[info] Constructing assembly `control`\n"
     ]
    },
    {
     "name": "stdout",
     "output_type": "stream",
     "text": [
      "[info] Constructing assembly `ultimate shutdown`\n"
     ]
    },
    {
     "name": "stdout",
     "output_type": "stream",
     "text": [
      "=========== Verifying Assembly Configurations ===========\n"
     ]
    },
    {
     "name": "stdout",
     "output_type": "stream",
     "text": [
      "[impt] Use the Python Tracer: False\n"
     ]
    },
    {
     "name": "stdout",
     "output_type": "stream",
     "text": [
      "[impt] Turn On the Profiler: False\n"
     ]
    },
    {
     "name": "stdout",
     "output_type": "stream",
     "text": [
      "[impt] Turn On Coverage Report Generation: False\n"
     ]
    },
    {
     "name": "stdout",
     "output_type": "stream",
     "text": [
      "[impt] Worker Log Verbosity: error\n"
     ]
    },
    {
     "name": "stdout",
     "output_type": "stream",
     "text": [
      "[impt] Module-Level Verbosity: {}\n"
     ]
    },
    {
     "name": "stdout",
     "output_type": "stream",
     "text": [
      "[impt] Primary Log Verbosity: info\n"
     ]
    },
    {
     "name": "stdout",
     "output_type": "stream",
     "text": [
      "[impt] Location of Output Cache:\n"
     ]
    },
    {
     "name": "stdout",
     "output_type": "stream",
     "text": [
      "[impt] Test inputs will be taken from test case results when they have finished\n"
     ]
    },
    {
     "name": "stdout",
     "output_type": "stream",
     "text": [
      "[impt] -----------------  ---------  --------------\n",
      "       Title              Enabled    Dependencies\n",
      "       -----------------  ---------  --------------\n",
      "       anl-afci-177-0000  T\n",
      "       anl-afci-177-0001  T\n",
      "       anl-afci-177-0002  T\n",
      "       anl-afci-177-0003  T\n",
      "       -----------------  ---------  --------------\n"
     ]
    }
   ],
   "source": [
    "suite = builder.buildSuite()\n",
    "suite.echoConfiguration()"
   ]
  },
  {
   "cell_type": "markdown",
   "metadata": {},
   "source": [
    "On the other hand, if you want to write inputs and then submit them all to a high-performance computer, you can do that too with `suite.writeInputs()`"
   ]
  },
  {
   "cell_type": "code",
   "execution_count": 6,
   "metadata": {
    "execution": {
     "iopub.execute_input": "2025-08-06T15:36:22.831972Z",
     "iopub.status.busy": "2025-08-06T15:36:22.831762Z",
     "iopub.status.idle": "2025-08-06T15:36:23.070504Z",
     "shell.execute_reply": "2025-08-06T15:36:23.069993Z"
    }
   },
   "outputs": [],
   "source": [
    "suite.writeInputs()"
   ]
  },
  {
   "cell_type": "markdown",
   "metadata": {},
   "source": [
    "You can now see that perturbed input files have been produced in the `case-suite` folder."
   ]
  },
  {
   "cell_type": "code",
   "execution_count": 7,
   "metadata": {
    "execution": {
     "iopub.execute_input": "2025-08-06T15:36:23.072396Z",
     "iopub.status.busy": "2025-08-06T15:36:23.072208Z",
     "iopub.status.idle": "2025-08-06T15:36:23.192772Z",
     "shell.execute_reply": "2025-08-06T15:36:23.192111Z"
    }
   },
   "outputs": [
    {
     "name": "stdout",
     "output_type": "stream",
     "text": [
      "case-suite/0000/anl-afci-177-0000.yaml:  power: 10000000.0\r\n",
      "case-suite/0001/anl-afci-177-0001.yaml:  power: 40000000.0\r\n",
      "case-suite/0002/anl-afci-177-0002.yaml:  power: 70000000.0\r\n",
      "case-suite/0003/anl-afci-177-0003.yaml:  power: 100000000.0\r\n"
     ]
    }
   ],
   "source": [
    "!grep -R \"power:\" case-suite/*"
   ]
  },
  {
   "cell_type": "raw",
   "metadata": {
    "raw_mimetype": "text/restructuredtext"
   },
   "source": [
    "To submit this suite to a computer cluster, one would run a series of ``python -m armi run`` commands from the ``case-suite`` folder. On a HPC, one would submit these commands to the HPC using the queuing system. \n"
   ]
  },
  {
   "cell_type": "markdown",
   "metadata": {},
   "source": [
    "## Modifying the reactor design\n",
    "Modifying settings is one thing, but the real power of parameter sweeps comes from programmatically perturbing the reactor component designs themselves. We accomplish this by modifying ARMI Blueprint objects as derived from the base input. \n",
    "\n"
   ]
  },
  {
   "cell_type": "code",
   "execution_count": 8,
   "metadata": {
    "execution": {
     "iopub.execute_input": "2025-08-06T15:36:23.194886Z",
     "iopub.status.busy": "2025-08-06T15:36:23.194647Z",
     "iopub.status.idle": "2025-08-06T15:36:24.431806Z",
     "shell.execute_reply": "2025-08-06T15:36:24.431169Z"
    }
   },
   "outputs": [
    {
     "name": "stdout",
     "output_type": "stream",
     "text": [
      "[info] Will expand HE, NA, AL, SI, V, CR, MN, FE, CO, NI, ZR, NB, MO, W elementals to have natural isotopics\n"
     ]
    },
    {
     "name": "stdout",
     "output_type": "stream",
     "text": [
      "[info] Constructing assembly `inner fuel`\n"
     ]
    },
    {
     "name": "stdout",
     "output_type": "stream",
     "text": [
      "[warn] Some component was missing in <reflector block-bol-000 at ExCore XS: A ENV GP: A> so pin-to-duct gap not calculated\n"
     ]
    },
    {
     "name": "stdout",
     "output_type": "stream",
     "text": [
      "[info] Constructing assembly `middle core fuel`\n"
     ]
    },
    {
     "name": "stdout",
     "output_type": "stream",
     "text": [
      "[warn] Some component was missing in <reflector block-bol-000 at ExCore XS: B ENV GP: A> so pin-to-duct gap not calculated\n"
     ]
    },
    {
     "name": "stdout",
     "output_type": "stream",
     "text": [
      "[info] Constructing assembly `outer core fuel`\n"
     ]
    },
    {
     "name": "stdout",
     "output_type": "stream",
     "text": [
      "[warn] Some component was missing in <reflector block-bol-000 at ExCore XS: C ENV GP: A> so pin-to-duct gap not calculated\n"
     ]
    },
    {
     "name": "stdout",
     "output_type": "stream",
     "text": [
      "[info] Constructing assembly `radial reflector`\n"
     ]
    },
    {
     "name": "stdout",
     "output_type": "stream",
     "text": [
      "[warn] Some component was missing in <reflector block-bol-000 at ExCore XS: A ENV GP: A> so pin-to-duct gap not calculated\n"
     ]
    },
    {
     "name": "stdout",
     "output_type": "stream",
     "text": [
      "[info] Constructing assembly `radial shield`\n"
     ]
    },
    {
     "name": "stdout",
     "output_type": "stream",
     "text": [
      "[info] Constructing assembly `control`\n"
     ]
    },
    {
     "name": "stdout",
     "output_type": "stream",
     "text": [
      "[info] Constructing assembly `ultimate shutdown`\n"
     ]
    },
    {
     "name": "stdout",
     "output_type": "stream",
     "text": [
      "=========== Verifying Assembly Configurations ===========\n"
     ]
    },
    {
     "name": "stdout",
     "output_type": "stream",
     "text": [
      "[info] Will expand HE, NA, AL, SI, V, CR, MN, FE, CO, NI, ZR, NB, MO, W elementals to have natural isotopics\n"
     ]
    },
    {
     "name": "stdout",
     "output_type": "stream",
     "text": [
      "[info] Constructing assembly `inner fuel`\n"
     ]
    },
    {
     "name": "stdout",
     "output_type": "stream",
     "text": [
      "[warn] Some component was missing in <reflector block-bol-000 at ExCore XS: A ENV GP: A> so pin-to-duct gap not calculated\n"
     ]
    },
    {
     "name": "stdout",
     "output_type": "stream",
     "text": [
      "[info] Constructing assembly `middle core fuel`\n"
     ]
    },
    {
     "name": "stdout",
     "output_type": "stream",
     "text": [
      "[warn] Some component was missing in <reflector block-bol-000 at ExCore XS: B ENV GP: A> so pin-to-duct gap not calculated\n"
     ]
    },
    {
     "name": "stdout",
     "output_type": "stream",
     "text": [
      "[info] Constructing assembly `outer core fuel`\n"
     ]
    },
    {
     "name": "stdout",
     "output_type": "stream",
     "text": [
      "[warn] Some component was missing in <reflector block-bol-000 at ExCore XS: C ENV GP: A> so pin-to-duct gap not calculated\n"
     ]
    },
    {
     "name": "stdout",
     "output_type": "stream",
     "text": [
      "[info] Constructing assembly `radial reflector`\n"
     ]
    },
    {
     "name": "stdout",
     "output_type": "stream",
     "text": [
      "[warn] Some component was missing in <reflector block-bol-000 at ExCore XS: A ENV GP: A> so pin-to-duct gap not calculated\n"
     ]
    },
    {
     "name": "stdout",
     "output_type": "stream",
     "text": [
      "[info] Constructing assembly `radial shield`\n"
     ]
    },
    {
     "name": "stdout",
     "output_type": "stream",
     "text": [
      "[info] Constructing assembly `control`\n"
     ]
    },
    {
     "name": "stdout",
     "output_type": "stream",
     "text": [
      "[info] Constructing assembly `ultimate shutdown`\n"
     ]
    },
    {
     "name": "stdout",
     "output_type": "stream",
     "text": [
      "=========== Verifying Assembly Configurations ===========\n"
     ]
    },
    {
     "name": "stdout",
     "output_type": "stream",
     "text": [
      "[info] Will expand HE, NA, AL, SI, V, CR, MN, FE, CO, NI, ZR, NB, MO, W elementals to have natural isotopics\n"
     ]
    },
    {
     "name": "stdout",
     "output_type": "stream",
     "text": [
      "[info] Constructing assembly `inner fuel`\n"
     ]
    },
    {
     "name": "stdout",
     "output_type": "stream",
     "text": [
      "[warn] Some component was missing in <reflector block-bol-000 at ExCore XS: A ENV GP: A> so pin-to-duct gap not calculated\n"
     ]
    },
    {
     "name": "stdout",
     "output_type": "stream",
     "text": [
      "[info] Constructing assembly `middle core fuel`\n"
     ]
    },
    {
     "name": "stdout",
     "output_type": "stream",
     "text": [
      "[warn] Some component was missing in <reflector block-bol-000 at ExCore XS: B ENV GP: A> so pin-to-duct gap not calculated\n"
     ]
    },
    {
     "name": "stdout",
     "output_type": "stream",
     "text": [
      "[info] Constructing assembly `outer core fuel`\n"
     ]
    },
    {
     "name": "stdout",
     "output_type": "stream",
     "text": [
      "[warn] Some component was missing in <reflector block-bol-000 at ExCore XS: C ENV GP: A> so pin-to-duct gap not calculated\n"
     ]
    },
    {
     "name": "stdout",
     "output_type": "stream",
     "text": [
      "[info] Constructing assembly `radial reflector`\n"
     ]
    },
    {
     "name": "stdout",
     "output_type": "stream",
     "text": [
      "[warn] Some component was missing in <reflector block-bol-000 at ExCore XS: A ENV GP: A> so pin-to-duct gap not calculated\n"
     ]
    },
    {
     "name": "stdout",
     "output_type": "stream",
     "text": [
      "[info] Constructing assembly `radial shield`\n"
     ]
    },
    {
     "name": "stdout",
     "output_type": "stream",
     "text": [
      "[info] Constructing assembly `control`\n"
     ]
    },
    {
     "name": "stdout",
     "output_type": "stream",
     "text": [
      "[info] Constructing assembly `ultimate shutdown`\n"
     ]
    },
    {
     "name": "stdout",
     "output_type": "stream",
     "text": [
      "=========== Verifying Assembly Configurations ===========\n"
     ]
    },
    {
     "name": "stdout",
     "output_type": "stream",
     "text": [
      "[info] Will expand HE, NA, AL, SI, V, CR, MN, FE, CO, NI, ZR, NB, MO, W elementals to have natural isotopics\n"
     ]
    },
    {
     "name": "stdout",
     "output_type": "stream",
     "text": [
      "[info] Constructing assembly `inner fuel`\n"
     ]
    },
    {
     "name": "stdout",
     "output_type": "stream",
     "text": [
      "[warn] Some component was missing in <reflector block-bol-000 at ExCore XS: A ENV GP: A> so pin-to-duct gap not calculated\n"
     ]
    },
    {
     "name": "stdout",
     "output_type": "stream",
     "text": [
      "[info] Constructing assembly `middle core fuel`\n"
     ]
    },
    {
     "name": "stdout",
     "output_type": "stream",
     "text": [
      "[warn] Some component was missing in <reflector block-bol-000 at ExCore XS: B ENV GP: A> so pin-to-duct gap not calculated\n"
     ]
    },
    {
     "name": "stdout",
     "output_type": "stream",
     "text": [
      "[info] Constructing assembly `outer core fuel`\n"
     ]
    },
    {
     "name": "stdout",
     "output_type": "stream",
     "text": [
      "[warn] Some component was missing in <reflector block-bol-000 at ExCore XS: C ENV GP: A> so pin-to-duct gap not calculated\n"
     ]
    },
    {
     "name": "stdout",
     "output_type": "stream",
     "text": [
      "[info] Constructing assembly `radial reflector`\n"
     ]
    },
    {
     "name": "stdout",
     "output_type": "stream",
     "text": [
      "[warn] Some component was missing in <reflector block-bol-000 at ExCore XS: A ENV GP: A> so pin-to-duct gap not calculated\n"
     ]
    },
    {
     "name": "stdout",
     "output_type": "stream",
     "text": [
      "[info] Constructing assembly `radial shield`\n"
     ]
    },
    {
     "name": "stdout",
     "output_type": "stream",
     "text": [
      "[info] Constructing assembly `control`\n"
     ]
    },
    {
     "name": "stdout",
     "output_type": "stream",
     "text": [
      "[info] Constructing assembly `ultimate shutdown`\n"
     ]
    },
    {
     "name": "stdout",
     "output_type": "stream",
     "text": [
      "=========== Verifying Assembly Configurations ===========\n"
     ]
    },
    {
     "name": "stdout",
     "output_type": "stream",
     "text": [
      "[info] Will expand HE, NA, AL, SI, V, CR, MN, FE, CO, NI, ZR, NB, MO, W elementals to have natural isotopics\n"
     ]
    },
    {
     "name": "stdout",
     "output_type": "stream",
     "text": [
      "[info] Constructing assembly `inner fuel`\n"
     ]
    },
    {
     "name": "stdout",
     "output_type": "stream",
     "text": [
      "[warn] Some component was missing in <reflector block-bol-000 at ExCore XS: A ENV GP: A> so pin-to-duct gap not calculated\n"
     ]
    },
    {
     "name": "stdout",
     "output_type": "stream",
     "text": [
      "[info] Constructing assembly `middle core fuel`\n"
     ]
    },
    {
     "name": "stdout",
     "output_type": "stream",
     "text": [
      "[warn] Some component was missing in <reflector block-bol-000 at ExCore XS: B ENV GP: A> so pin-to-duct gap not calculated\n"
     ]
    },
    {
     "name": "stdout",
     "output_type": "stream",
     "text": [
      "[info] Constructing assembly `outer core fuel`\n"
     ]
    },
    {
     "name": "stdout",
     "output_type": "stream",
     "text": [
      "[warn] Some component was missing in <reflector block-bol-000 at ExCore XS: C ENV GP: A> so pin-to-duct gap not calculated\n"
     ]
    },
    {
     "name": "stdout",
     "output_type": "stream",
     "text": [
      "[info] Constructing assembly `radial reflector`\n"
     ]
    },
    {
     "name": "stdout",
     "output_type": "stream",
     "text": [
      "[warn] Some component was missing in <reflector block-bol-000 at ExCore XS: A ENV GP: A> so pin-to-duct gap not calculated\n"
     ]
    },
    {
     "name": "stdout",
     "output_type": "stream",
     "text": [
      "[info] Constructing assembly `radial shield`\n"
     ]
    },
    {
     "name": "stdout",
     "output_type": "stream",
     "text": [
      "[info] Constructing assembly `control`\n"
     ]
    },
    {
     "name": "stdout",
     "output_type": "stream",
     "text": [
      "[info] Constructing assembly `ultimate shutdown`\n"
     ]
    },
    {
     "name": "stdout",
     "output_type": "stream",
     "text": [
      "=========== Verifying Assembly Configurations ===========\n"
     ]
    },
    {
     "name": "stdout",
     "output_type": "stream",
     "text": [
      "[impt] Use the Python Tracer: False\n"
     ]
    },
    {
     "name": "stdout",
     "output_type": "stream",
     "text": [
      "[impt] Turn On the Profiler: False\n"
     ]
    },
    {
     "name": "stdout",
     "output_type": "stream",
     "text": [
      "[impt] Turn On Coverage Report Generation: False\n"
     ]
    },
    {
     "name": "stdout",
     "output_type": "stream",
     "text": [
      "[impt] Worker Log Verbosity: error\n"
     ]
    },
    {
     "name": "stdout",
     "output_type": "stream",
     "text": [
      "[impt] Module-Level Verbosity: {}\n"
     ]
    },
    {
     "name": "stdout",
     "output_type": "stream",
     "text": [
      "[impt] Primary Log Verbosity: info\n"
     ]
    },
    {
     "name": "stdout",
     "output_type": "stream",
     "text": [
      "[impt] Location of Output Cache:\n"
     ]
    },
    {
     "name": "stdout",
     "output_type": "stream",
     "text": [
      "[impt] Test inputs will be taken from test case results when they have finished\n"
     ]
    },
    {
     "name": "stdout",
     "output_type": "stream",
     "text": [
      "[impt] -----------------  ---------  --------------\n",
      "       Title              Enabled    Dependencies\n",
      "       -----------------  ---------  --------------\n",
      "       anl-afci-177-0000  T\n",
      "       anl-afci-177-0001  T\n",
      "       anl-afci-177-0002  T\n",
      "       anl-afci-177-0003  T\n",
      "       anl-afci-177-0004  T\n",
      "       -----------------  ---------  --------------\n"
     ]
    }
   ],
   "source": [
    "class CladThicknessModifier(inputModifiers.InputModifier):\n",
    "    \"\"\"Modifier that adjusts the cladding outer diameter.\"\"\"\n",
    "\n",
    "    def __call__(self, cs, bp):\n",
    "        for blockDesign in bp.blockDesigns:\n",
    "            for componentDesign in blockDesign:\n",
    "                if componentDesign.name == \"clad\":\n",
    "                    # by default, values passed to a modifier end up in the\n",
    "                    # independentVariable dict\n",
    "                    componentDesign.od = self.independentVariable[\"cladThickness\"]\n",
    "        return cs, bp\n",
    "\n",
    "\n",
    "cladThicknesses = np.linspace(0.8, 0.9, 5)\n",
    "builder = suiteBuilder.SeparateEffectsSuiteBuilder(case)\n",
    "cladModifications = [CladThicknessModifier({\"cladThickness\": float(od)}) for od in cladThicknesses]\n",
    "builder.addDegreeOfFreedom(cladModifications)\n",
    "suite = builder.buildSuite()\n",
    "suite.echoConfiguration()\n",
    "suite.writeInputs()"
   ]
  },
  {
   "cell_type": "markdown",
   "metadata": {},
   "source": [
    "Now we can inspect the input files and see that the cladding outer diameter definition has indeed been modified"
   ]
  },
  {
   "cell_type": "code",
   "execution_count": 9,
   "metadata": {
    "execution": {
     "iopub.execute_input": "2025-08-06T15:36:24.433793Z",
     "iopub.status.busy": "2025-08-06T15:36:24.433605Z",
     "iopub.status.idle": "2025-08-06T15:36:24.551406Z",
     "shell.execute_reply": "2025-08-06T15:36:24.550668Z"
    }
   },
   "outputs": [
    {
     "name": "stdout",
     "output_type": "stream",
     "text": [
      "case-suite/0000/anl-afci-177-0000-blueprints.yaml-      od: 0.8\r\n",
      "case-suite/0000/anl-afci-177-0000-blueprints.yaml-      od: 0.8\r\n",
      "case-suite/0001/anl-afci-177-0001-blueprints.yaml-      od: 0.8250000000000001\r\n",
      "case-suite/0001/anl-afci-177-0001-blueprints.yaml-      od: 0.8250000000000001\r\n",
      "case-suite/0002/anl-afci-177-0002-blueprints.yaml-      od: 0.8500000000000001\r\n",
      "case-suite/0002/anl-afci-177-0002-blueprints.yaml-      od: 0.8500000000000001\r\n",
      "case-suite/0003/anl-afci-177-0003-blueprints.yaml-      od: 0.875\r\n",
      "case-suite/0003/anl-afci-177-0003-blueprints.yaml-      od: 0.875\r\n",
      "case-suite/0004/anl-afci-177-0004-blueprints.yaml-      od: 0.9\r\n",
      "case-suite/0004/anl-afci-177-0004-blueprints.yaml-      od: 0.9\r\n"
     ]
    }
   ],
   "source": [
    "!grep -R \"clad:\" -A6 case-suite/* | grep \"od:\""
   ]
  },
  {
   "cell_type": "markdown",
   "metadata": {},
   "source": [
    "## A full factorial parameter sweep\n",
    "Of course, one can use factorial sweeps as well. Below we add two degrees of freedom, one of length 5 and another of length 20. This suite has 100 cases total with all combinations of each setting."
   ]
  },
  {
   "cell_type": "code",
   "execution_count": 10,
   "metadata": {
    "execution": {
     "iopub.execute_input": "2025-08-06T15:36:24.553477Z",
     "iopub.status.busy": "2025-08-06T15:36:24.553257Z",
     "iopub.status.idle": "2025-08-06T15:36:24.558441Z",
     "shell.execute_reply": "2025-08-06T15:36:24.557945Z"
    }
   },
   "outputs": [
    {
     "name": "stdout",
     "output_type": "stream",
     "text": [
      "There are 100 cases in this suite.\n"
     ]
    }
   ],
   "source": [
    "builder = suiteBuilder.FullFactorialSuiteBuilder(case)\n",
    "powers = np.linspace(10, 100, 5)\n",
    "powerModifications = [inputModifiers.SettingsModifier(\"power\", mw * 1e6) for mw in powers]\n",
    "builder.addDegreeOfFreedom(powerModifications)\n",
    "\n",
    "cycleLengths = np.linspace(200, 1000, 20)\n",
    "cycleLengthMods = [inputModifiers.SettingsModifier(\"cycleLength\", cL) for cL in cycleLengths]\n",
    "builder.addDegreeOfFreedom(cycleLengthMods)\n",
    "print(f\"There are {len(builder.modifierSets)} cases in this suite.\")"
   ]
  },
  {
   "cell_type": "markdown",
   "metadata": {},
   "source": [
    "## Post-processing the results of the sweep\n",
    "After all the runs have completed in a parameter sweep, you will want to post-process them to come to some kind of useful conclusion. Because post-processing is very design-specific, you need to make a simple post-processing script. The ARMI framework has useful functions that will assist you in this task. \n",
    "\n",
    "First, we assume you're in a new shell and we discover all the cases that ran:"
   ]
  },
  {
   "cell_type": "code",
   "execution_count": 11,
   "metadata": {
    "execution": {
     "iopub.execute_input": "2025-08-06T15:36:24.560120Z",
     "iopub.status.busy": "2025-08-06T15:36:24.559924Z",
     "iopub.status.idle": "2025-08-06T15:36:24.598576Z",
     "shell.execute_reply": "2025-08-06T15:36:24.597960Z"
    }
   },
   "outputs": [
    {
     "name": "stdout",
     "output_type": "stream",
     "text": [
      "Loading suite results...\n",
      "[info] Finding potential settings files matching ['anl-afci-177-????.yaml'].\n"
     ]
    },
    {
     "name": "stdout",
     "output_type": "stream",
     "text": [
      "[info] Checking for valid settings files.\n"
     ]
    },
    {
     "name": "stdout",
     "output_type": "stream",
     "text": [
      "=========== Settings Validation Checks ===========\n"
     ]
    },
    {
     "name": "stdout",
     "output_type": "stream",
     "text": [
      "=========== Settings Validation Checks ===========\n"
     ]
    },
    {
     "name": "stdout",
     "output_type": "stream",
     "text": [
      "=========== Settings Validation Checks ===========\n"
     ]
    },
    {
     "name": "stdout",
     "output_type": "stream",
     "text": [
      "=========== Settings Validation Checks ===========\n"
     ]
    },
    {
     "name": "stdout",
     "output_type": "stream",
     "text": [
      "=========== Settings Validation Checks ===========\n"
     ]
    }
   ],
   "source": [
    "def loadSuite():\n",
    "    print(\"Loading suite results...\")\n",
    "    cs = settings.Settings(\"../anl-afci-177/anl-afci-177.yaml\")\n",
    "    suite = cases.CaseSuite(cs)\n",
    "    suite.discover(patterns=[\"anl-afci-177-????.yaml\"])\n",
    "    suite = sorted(suite, key=lambda c: c.cs.inputDirectory)\n",
    "    return suite\n",
    "\n",
    "\n",
    "suite = loadSuite()"
   ]
  },
  {
   "cell_type": "markdown",
   "metadata": {},
   "source": [
    "At this point, you have two options based on your needs:\n",
    "\n",
    "- Read the ARMI HDF5 output databases directly (useful if you just need to pull certain scalar parameters directly out of the database)\n",
    "- Have ARMI load HDF5 output databases into full ARMI reactor objects and use the ARMI API to extract data (useful if you want to loop over certain parts of the plant to sum things up)\n",
    "\n",
    "Directly reading the database will be inherently less stable (e.g. in case the underlying DB format changes), but can be very fast. Loading ARMI reactors for each case is slower, but should also be more powerful and more stable.\n",
    "\n",
    "After you extract the data, you can plot it or make tables or anything else you need. We often pass it to non-parametric regression systems like the [Alternating Conditional Expectation](https://github.com/partofthething/ace) (ACE) and then on to a multi-objective optimization system (like [Physical Programming](https://github.com/partofthething/physprog)). "
   ]
  }
 ],
 "metadata": {
  "celltoolbar": "Raw Cell Format",
  "kernelspec": {
   "display_name": "Python 3",
   "language": "python",
   "name": "python3"
  },
  "language_info": {
   "codemirror_mode": {
    "name": "ipython",
    "version": 3
   },
   "file_extension": ".py",
   "mimetype": "text/x-python",
   "name": "python",
   "nbconvert_exporter": "python",
   "pygments_lexer": "ipython3",
   "version": "3.13.5"
  }
 },
 "nbformat": 4,
 "nbformat_minor": 2
}
