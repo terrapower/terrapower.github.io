{
  "cells": [
    {
      "cell_type": "markdown",
      "metadata": {},
      "source": [
        "\n# Computing Component Volume Fractions on a Block with Automatic Thermal Expansion\n\nGiven an :py:mod:`Block <armi.reactor.blocks.Block>`, compute\nthe component volume fractions. Assess the change in volume\nof these components within the block as the temperatures of\nthe fuel and structure components are uniformly increased.\n\nNote: Thermal expansion is automatically considered with\nmaterial data defined within :py:mod:`materials <armi.materials>`.\n"
      ]
    },
    {
      "cell_type": "code",
      "execution_count": null,
      "metadata": {
        "collapsed": false
      },
      "outputs": [],
      "source": [
        "# ruff: noqa: E402\nimport collections\n\nimport tabulate\nimport matplotlib.pyplot as plt\n\nfrom armi import configure\n\nconfigure(permissive=True)\n\nfrom armi.reactor.flags import Flags\nfrom armi.reactor.tests.test_blocks import buildSimpleFuelBlock\n\n\ndef writeInitialVolumeFractions(b):\n    \"\"\"Write out the initial temperatures and component volume fractions.\"\"\"\n    headers = [\"Component\", \"Temperature, \u00b0C\", \"Volume Fraction\"]\n    data = [(c, c.temperatureInC, volFrac) for c, volFrac in b.getVolumeFractions()]\n    print(tabulate.tabulate(tabular_data=data, headers=headers) + \"\\n\")\n\n\ndef plotVolFracsWithComponentTemps(b, uniformTemps):\n    \"\"\"Plot the percent change in vol. fractions as fuel/structure temperatures are uniformly increased.\"\"\"\n    # Perform uniform temperature modifications of the fuel and structural\n    # components.\n    componentsToModify = b.getComponents([Flags.FUEL, Flags.CLAD, Flags.DUCT])\n\n    initialVols = {}\n    relativeVols = collections.defaultdict(list)\n    for tempInC in uniformTemps:\n\n        print(f\"Updating fuel/structure components to {tempInC} \u00b0C\")\n        # Modify the fuel/structure components to the\n        # same uniform temperature\n        for c in componentsToModify:\n            c.setTemperature(tempInC)\n\n        writeInitialVolumeFractions(b)\n\n        # Iterate over all components and calculate the mass\n        # and volume fractions\n        for c in b:\n            # Set the initial volume fractions at the first uniform temperature\n            if tempInC == uniformTempsInC[0]:\n                initialVols[c] = c.getVolume()\n\n            relativeVols[c].append(\n                (c.getVolume() - initialVols[c]) / initialVols[c] * 100.0\n            )\n\n    fig, ax = plt.subplots()\n\n    for c in b.getComponents():\n        ax.plot(uniformTempsInC, relativeVols[c], label=c.name)\n\n    ax.set_title(\"Component Volume Fractions with Automatic Thermal Expansion\")\n    ax.set_ylabel(f\"% Change in Volume from {uniformTempsInC[0]} \u00b0C\")\n    ax.set_xlabel(\"Uniform Fuel/Structure Temperature, \u00b0C\")\n    ax.legend()\n    ax.grid()\n\n    plt.show()\n\n\nuniformTempsInC = [400.0, 500.0, 600.0, 700.0, 800.0, 900.0, 1200.0]\nb = buildSimpleFuelBlock()\n\nwriteInitialVolumeFractions(b)\nplotVolFracsWithComponentTemps(b, uniformTempsInC)"
      ]
    }
  ],
  "metadata": {
    "kernelspec": {
      "display_name": "Python 3",
      "language": "python",
      "name": "python3"
    },
    "language_info": {
      "codemirror_mode": {
        "name": "ipython",
        "version": 3
      },
      "file_extension": ".py",
      "mimetype": "text/x-python",
      "name": "python",
      "nbconvert_exporter": "python",
      "pygments_lexer": "ipython3",
      "version": "3.9.18"
    }
  },
  "nbformat": 4,
  "nbformat_minor": 0
}