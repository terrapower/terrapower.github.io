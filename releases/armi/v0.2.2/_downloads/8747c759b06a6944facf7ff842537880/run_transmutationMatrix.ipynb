{
  "cells": [
    {
      "cell_type": "code",
      "execution_count": null,
      "metadata": {
        "collapsed": false
      },
      "outputs": [],
      "source": [
        "%matplotlib inline"
      ]
    },
    {
      "cell_type": "markdown",
      "metadata": {},
      "source": [
        "\n# Transmutation and decay reactions\n\nThis plots some of the transmutation and decay pathways for the actinides and some light\nnuclides using the burn chain definition that is included with ARMI. Note that many of\nthese reactions are shortcut for reactor analysis. For example, a U-238 capture goes\ndirectly to NP-239 rather than first going to U-239. Some (n,2n) reactions quickly beta\ndecay, so the transmutation goes right to the product. For the decays, the arrow has been\nadjusted in width based on the branching ratio. The transmutations are all constant since\ntheir rates would depend on the neutron spectrum being modeled. This is mostly a demo of\nmore features of the :py:mod:`armi.nucDirectory` subpackage.\n\nUsers can input their own transmutation matrix or use this one.\n\nA Bateman equation/matrix exponential solver is required to actually *solve* transmutation and\ndecay problems, which can be provided via a plugin.\n"
      ]
    },
    {
      "cell_type": "code",
      "execution_count": null,
      "metadata": {
        "collapsed": false
      },
      "outputs": [],
      "source": [
        "import os\nimport math\n\nimport matplotlib.patches as mpatch\nfrom matplotlib.collections import PatchCollection\nimport matplotlib.pyplot as plt\n\nfrom armi.context import RES\nfrom armi.nucDirectory import nuclideBases\n\n\ndef plotNuc(nb, ax):\n    \"\"\"Make a square patch for a single nuclide base.\"\"\"\n    patch = mpatch.Rectangle((nb.a - nb.z - 0.5, nb.z - 0.5), 1.0, 1.0)\n    rx, ry = patch.get_xy()\n    cx = rx + patch.get_width() / 2.0\n    # bump label down for metastable nuclides\n    cy = ry + (3 - 2 * nb.state) * patch.get_height() / 4.0\n    ax.annotate(\n        nb.name,\n        (cx, cy),\n        color=\"k\",\n        weight=\"normal\",\n        fontsize=10,\n        ha=\"center\",\n        va=\"center\",\n    )\n    return patch\n\n\ndef plotAll(xlim, ylim):\n    \"\"\"Plot all nuclides and transformations.\"\"\"\n    # load the burn chain input that comes with ARMI\n    with open(os.path.join(RES, \"burn-chain.yaml\")) as burnChainStream:\n        nuclideBases.imposeBurnChain(burnChainStream)\n    nbs = nuclideBases.instances\n    fig, ax = plt.subplots(figsize=(15, 10))\n\n    patches = []\n    for nb in nbs:\n        if not nb.trans and not nb.decays:\n            # skip nuclides without any transmutations defined\n            pass\n        patch = plotNuc(nb, ax)\n        patches.append(patch)\n        # loop over all possible transmutations and decays and draw arrows\n        for ti, trans in enumerate(nb.trans + nb.decays):\n            product = nuclideBases.fromName(trans.productNuclides[0])\n            if product.z == 0:\n                # skip lumped fission products and DUMP nuclides\n                continue\n            # add index-based y-offset to minimize overlaps\n            x, y, xp, yp = (\n                nb.a - nb.z,\n                nb.z + ti * 0.05,\n                product.a - product.z,\n                product.z + ti * 0.05,\n            )\n            if trans in nb.trans:\n                color = \"deeppink\"\n            else:\n                color = \"orangered\"\n            ax.annotate(\n                \"\",\n                (xp, yp),\n                (x, y),\n                arrowprops=dict(\n                    width=2 * trans.branch, shrink=0.1, alpha=0.4, color=color\n                ),\n            )\n            # add reaction label towards the middle of the arrow\n            xlabel = xp - (xp - x) * 0.5\n            ylabel = yp - (yp - y) * 0.5\n            # pretty up the labels a bit with some LaTeX and rotations\n            rxnType = (\n                trans.type.replace(\"nGamma\", r\"n,$\\gamma$\")\n                .replace(\"nalph\", r\"n,$\\alpha$\")\n                .replace(\"ad\", r\"$\\alpha$\")\n                .replace(\"bmd\", r\"$\\beta^-$\")\n                .replace(\"bpd\", r\"$\\beta^+$\")\n            )\n            if xp != x:\n                # rotate the nuclide type label to sit right on the arrow\n                rotation = math.atan((yp - y) / (xp - x)) * 180 / math.pi\n            else:\n                rotation = 0\n            ax.text(\n                xlabel, ylabel, rxnType, color=\"grey\", ha=\"center\", rotation=rotation\n            )\n\n    pc = PatchCollection(patches, facecolor=\"mistyrose\", alpha=0.2, edgecolor=\"black\")\n    ax.add_collection(pc)\n    ax.set_xlim(xlim)\n    ax.set_ylim(ylim)\n    ax.set_aspect(\"equal\")\n    ax.set_xlabel(\"Neutrons (N)\")\n    ax.set_ylabel(\"Protons (Z)\")\n    ax.set_title(\"Transmutations and Decays (with branching)\")\n    plt.show()\n\n\nif __name__ == \"__main__\":\n    # make two plots, one zoomed on actinides and another on light nuclides\n    plotAll(xlim=(139.5, 154.5), ylim=(89.5, 98.5))\n    plotAll(xlim=(0.5, 6.5), ylim=(0.5, 5.5))"
      ]
    }
  ],
  "metadata": {
    "kernelspec": {
      "display_name": "Python 3",
      "language": "python",
      "name": "python3"
    },
    "language_info": {
      "codemirror_mode": {
        "name": "ipython",
        "version": 3
      },
      "file_extension": ".py",
      "mimetype": "text/x-python",
      "name": "python",
      "nbconvert_exporter": "python",
      "pygments_lexer": "ipython3",
      "version": "3.8.12"
    }
  },
  "nbformat": 4,
  "nbformat_minor": 0
}