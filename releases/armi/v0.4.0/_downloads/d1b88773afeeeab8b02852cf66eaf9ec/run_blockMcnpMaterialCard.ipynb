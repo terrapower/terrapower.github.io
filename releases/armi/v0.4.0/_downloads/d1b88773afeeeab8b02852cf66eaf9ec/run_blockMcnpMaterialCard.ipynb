{
  "cells": [
    {
      "cell_type": "markdown",
      "metadata": {},
      "source": [
        "\n# Write MCNP Material Cards\n\nHere we load a test reactor and write each component of one fuel block out as\nMCNP material cards.\n\nNormally, code-specific utility code would belong in a code-specific ARMI\nplugin. But in this case, the need for MCNP materials cards is so pervasive\nthat it made it into the framework\n"
      ]
    },
    {
      "cell_type": "code",
      "execution_count": null,
      "metadata": {
        "collapsed": false
      },
      "outputs": [],
      "source": [
        "# sphinx_gallery_thumbnail_path = '.static/armi-logo.png'\n\nfrom armi import configure\nfrom armi.nucDirectory import nuclideBases as nb\nfrom armi.reactor.flags import Flags\nfrom armi.reactor.tests import test_reactors\nfrom armi.utils.densityTools import formatMaterialCard\n\n# configure ARMI\nconfigure(permissive=True)\n\n_o, r = test_reactors.loadTestReactor()\n\nbFuel = r.core.getBlocks(Flags.FUEL)[0]\n\nfor ci, component in enumerate(bFuel, start=1):\n    ndens = component.getNumberDensities()\n    # convert nucName (str) keys to nuclideBase keys\n    ndensByBase = {nb.byName[nucName]: dens for nucName, dens in ndens.items()}\n    print(\"\".join(formatMaterialCard(ndensByBase, matNum=ci)))"
      ]
    }
  ],
  "metadata": {
    "kernelspec": {
      "display_name": "Python 3",
      "language": "python",
      "name": "python3"
    },
    "language_info": {
      "codemirror_mode": {
        "name": "ipython",
        "version": 3
      },
      "file_extension": ".py",
      "mimetype": "text/x-python",
      "name": "python",
      "nbconvert_exporter": "python",
      "pygments_lexer": "ipython3",
      "version": "3.9.19"
    }
  },
  "nbformat": 4,
  "nbformat_minor": 0
}