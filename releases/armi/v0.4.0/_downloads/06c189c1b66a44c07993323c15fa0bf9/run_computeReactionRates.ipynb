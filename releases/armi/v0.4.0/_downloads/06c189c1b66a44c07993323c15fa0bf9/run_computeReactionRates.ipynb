{
  "cells": [
    {
      "cell_type": "markdown",
      "metadata": {},
      "source": [
        "\n# Computing Reaction Rates on a Block.\n\nIn this example, a set of 1-group reaction rates (in #/s) are evaluated\nfor a dummy fuel block containing UZr fuel, HT9 structure, and\nsodium coolant. A dummy multigroup flux is applied.\n\nThis example also demonstrates how to build a reactor model from code alone\nrather than relying upon input files.\n"
      ]
    },
    {
      "cell_type": "code",
      "execution_count": null,
      "metadata": {
        "collapsed": false
      },
      "outputs": [],
      "source": [
        "import matplotlib.pyplot as plt\nimport numpy as np\n\nfrom armi import configure, nuclideBases, settings\nfrom armi.materials import ht9\nfrom armi.materials import sodium\nfrom armi.materials import uZr\nfrom armi.nuclearDataIO.cccc import isotxs\nfrom armi.reactor import assemblies\nfrom armi.reactor import blocks\nfrom armi.reactor import blueprints\nfrom armi.reactor import geometry\nfrom armi.reactor import grids\nfrom armi.reactor import reactors\nfrom armi.reactor.components import Circle\nfrom armi.reactor.components import DerivedShape\nfrom armi.reactor.components import Hexagon\nfrom armi.reactor.flags import Flags\nfrom armi.tests import ISOAA_PATH\n\nconfigure(permissive=True)\n\n\ndef _addFlux(b):\n    \"\"\"Add dummy 33-group flux to the block.\"\"\"\n    # fmt: off\n    b.p.mgFlux = [\n        1.6e+11, 2.3e+12, 1.1e+13, 2.6e+13, 4.6e+13, 7.9e+13, 1.4e+14, 2.2e+14,\n        2.3e+14, 2.7e+14, 2.2e+14, 1.7e+14, 1.3e+14, 1.4e+14, 7.5e+13, 3.2e+13,\n        2.2e+13, 6.3e+12, 2.2e+13, 1.2e+13, 5.2e+12, 1.5e+12, 1.4e+12, 2.9e+11,\n        7.4e+10, 5.5e+10, 1.9e+10, 5.0e+09, 3.6e+09, 8.8e+08, 4.3e+09, 1.3e+09,\n        6.0e+08\n    ]\n    # fmt: on\n\n\ndef createDummyReactor():\n    \"\"\"\n    Create a dummy reactor with a single fuel assembly and a single fuel block.\n\n    Often, a reactor model like this is built directly from input files rather\n    than from code as done here.\n    \"\"\"\n    bp = blueprints.Blueprints()\n    cs = settings.Settings()\n\n    r = reactors.Reactor(\"Reactor\", bp)\n    r.add(reactors.Core(\"Core\"))\n    r.core.spatialGrid = grids.HexGrid.fromPitch(1.0)\n    r.core.spatialGrid.symmetry = geometry.SymmetryType(\n        geometry.DomainType.THIRD_CORE, geometry.BoundaryType.PERIODIC\n    )\n    r.core.spatialGrid.geomType = geometry.GeomType.HEX\n    r.core.spatialGrid.armiObject = r.core\n    r.core.setOptionsFromCs(cs)\n\n    # Create a single fuel assembly\n    a = assemblies.HexAssembly(\"fuel assembly\")\n    a.spatialGrid = grids.AxialGrid.fromNCells(1)\n    a.spatialLocator = r.core.spatialGrid[1, 0, 0]\n\n    # Create a single fuel block\n    b = blocks.HexBlock(\"fuel block\")\n    b.setType(\"fuel\")\n\n    # Create a single fuel component with UZr fuel.\n    dims = {\"Tinput\": 20, \"Thot\": 900, \"id\": 0.0, \"od\": 2.9, \"mult\": 7}\n    c = Circle(\"fuel\", uZr.UZr(), **dims)\n    b.add(c)\n\n    # Create a single structure component with HT9.\n    dims = {\"Tinput\": 20, \"Thot\": 600, \"op\": 16.0, \"ip\": 15.0, \"mult\": 1}\n    c = Hexagon(\"structure\", ht9.HT9(), **dims)\n    b.add(c)\n\n    # Fill in the rest of the block with sodium coolant.\n    dims = {\"Tinput\": 600, \"Thot\": 600}\n    c = DerivedShape(\"coolant\", sodium.Sodium(), **dims)\n    b.add(c)\n\n    a.add(b)\n    r.core.add(a)\n    _addFlux(b)\n    return r\n\n\n# Create a dummy reactor with the function defined above.\nr = createDummyReactor()\n\n# Add an example cross section library to the reactor core\nr.core.lib = isotxs.readBinary(ISOAA_PATH)\n\nb = r.core.getFirstBlock(Flags.FUEL)\nb.expandElementalToIsotopics(nuclideBases.byName[\"NA\"])\n\n# Iterate over a few nuclides/elements in the XS library\n# and collect the total reaction rates in #/s.\nallRates = []\nnucNames = [\"U235\", \"U238\", \"FE\", \"NA23\"]\nfor nucName in nucNames:\n    rateData = b.getReactionRates(nucName)\n    rateLabels = sorted(rateData.keys())  # will be constant\n    allRates.append([rateData[k] for k in rateLabels])\n\n# plot the reaction rates as a bar graph\nfig, ax = plt.subplots()\nwidth = 1.0 / len(rateLabels)\noffset = 0.0\nfor nucName, nucRates in zip(nucNames, allRates):\n    ax.bar(\n        np.arange(len(rateLabels)) + width + offset,\n        nucRates,\n        width=width,\n        label=nucName,\n    )\n    offset += width\n\nax.set_xticks(np.arange(len(rateLabels)) + 0.5)\nax.set_xticklabels(rateLabels)\n\n# Add little divider lines between reactions for clarity\nfor border in np.arange(len(rateLabels) - 1):\n    ax.axvline(border + 1, ls=\"--\", alpha=0.4, color=\"k\")\n\nax.set_xlim([0, len(rateLabels)])\n\nplt.yscale(\"log\")\nplt.legend()\nplt.title(\"Reaction rates\")\nplt.xlabel(\"Reaction type\")\nplt.ylabel(\"Reaction rate (1/s)\")\nplt.show()"
      ]
    }
  ],
  "metadata": {
    "kernelspec": {
      "display_name": "Python 3",
      "language": "python",
      "name": "python3"
    },
    "language_info": {
      "codemirror_mode": {
        "name": "ipython",
        "version": 3
      },
      "file_extension": ".py",
      "mimetype": "text/x-python",
      "name": "python",
      "nbconvert_exporter": "python",
      "pygments_lexer": "ipython3",
      "version": "3.9.19"
    }
  },
  "nbformat": 4,
  "nbformat_minor": 0
}