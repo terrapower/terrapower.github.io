{
  "cells": [
    {
      "cell_type": "markdown",
      "metadata": {},
      "source": [
        "\n# Plotting a multi-group scatter matrix.\n\nHere we plot scatter matrices from an ISOTXS microscopic cross section library.\nWe plot the inelastic scatter cross section of U235 as well as the (n,2n) source\nmatrix.\n\nSee Also: :py:mod:`ISOTXS <armi.nuclearDataIO.isotxs>` format.\n"
      ]
    },
    {
      "cell_type": "code",
      "execution_count": null,
      "metadata": {
        "collapsed": false
      },
      "outputs": [],
      "source": [
        "import matplotlib.pyplot as plt\n\nfrom armi import configure\nfrom armi.nuclearDataIO import xsNuclides\nfrom armi.nuclearDataIO.cccc import isotxs\nfrom armi.tests import ISOAA_PATH\n\nconfigure(permissive=True)\n\nlib = isotxs.readBinary(ISOAA_PATH)\n\nu235 = lib.getNuclide(\"U235\", \"AA\")\nxsNuclides.plotScatterMatrix(u235.micros.inelasticScatter, \"U-235 inelastic\")\n\nplt.figure()\nxsNuclides.plotScatterMatrix(u235.micros.n2nScatter, \"U-235 n,2n src\")"
      ]
    }
  ],
  "metadata": {
    "kernelspec": {
      "display_name": "Python 3",
      "language": "python",
      "name": "python3"
    },
    "language_info": {
      "codemirror_mode": {
        "name": "ipython",
        "version": 3
      },
      "file_extension": ".py",
      "mimetype": "text/x-python",
      "name": "python",
      "nbconvert_exporter": "python",
      "pygments_lexer": "ipython3",
      "version": "3.9.18"
    }
  },
  "nbformat": 4,
  "nbformat_minor": 0
}