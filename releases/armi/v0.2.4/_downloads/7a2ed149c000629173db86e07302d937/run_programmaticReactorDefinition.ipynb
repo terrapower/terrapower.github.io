{
  "cells": [
    {
      "cell_type": "code",
      "execution_count": null,
      "metadata": {
        "collapsed": false
      },
      "outputs": [],
      "source": [
        "%matplotlib inline"
      ]
    },
    {
      "cell_type": "markdown",
      "metadata": {},
      "source": [
        "\n# Build Reactor Inputs Programmatically\n\nSometimes it's desirable to build input definitions for ARMI using\ncode rather than by writing the textual input files directly.\nIn ARMI you can either make the ARMI reactor objects directly,\nor you can define Blueprints objects. The benefit of making Blueprints\nobjects is that they can in turn be used to create both ARMI reactor\nobjects as well as textual input itself. This is nice when you want to\nhave traceable input files associated with a run that was developed\nprogrammatically (e.g. for parameter sweeps).\n\nThis example shows how to make Blueprints objects programmatically completely\nfrom scratch.\n"
      ]
    },
    {
      "cell_type": "code",
      "execution_count": null,
      "metadata": {
        "collapsed": false
      },
      "outputs": [],
      "source": [
        "import matplotlib.pyplot as plt\nfrom armi import configure, runLog\n\n# configure ARMI\nconfigure(permissive=True)\n\n# pylint: disable=wrong-import-position\nfrom armi.reactor import blueprints\nfrom armi import settings\nfrom armi.settings import caseSettings\nfrom armi.reactor.blueprints import isotopicOptions\nfrom armi.reactor.blueprints import assemblyBlueprint\nfrom armi.reactor.blueprints import blockBlueprint\nfrom armi.reactor.blueprints import componentBlueprint\nfrom armi.reactor.blueprints import gridBlueprint\nfrom armi.reactor.blueprints import reactorBlueprint\nfrom armi.utils import plotting\nfrom armi import cases\n\n\ndef buildCase():\n    \"\"\"Build input components and a case.\"\"\"\n    bp = blueprints.Blueprints()\n    bp.customIsotopics = isotopicOptions.CustomIsotopics()\n    bp.nuclideFlags = isotopicOptions.genDefaultNucFlags()\n\n    components = buildComponents()\n    bp.blockDesigns = buildBlocks(components)\n    bp.assemDesigns = buildAssemblies(bp.blockDesigns)\n    bp.gridDesigns = buildGrids()\n    bp.systemDesigns = buildSystems()\n\n    cs = caseSettings.Settings()\n    settings.setMasterCs(cs)  # remove once we eliminate masterCs\n    cs.path = None\n    cs.caseTitle = \"scripted-case\"\n    case = cases.Case(cs=cs, bp=bp)\n\n    return case\n\n\ndef buildComponents():\n    ISOTHERMAL_TEMPERATURE_IN_C = 450.0\n    fuel = componentBlueprint.ComponentBlueprint()\n    fuel.name = \"fuel\"\n    fuel.shape = \"Circle\"\n    fuel.mult = 217\n    fuel.material = \"Custom\"\n    fuel.Tinput = ISOTHERMAL_TEMPERATURE_IN_C\n    fuel.Thot = ISOTHERMAL_TEMPERATURE_IN_C\n    fuel.id = 0.0\n    fuel.od = 0.4\n\n    clad = componentBlueprint.ComponentBlueprint()\n    clad.name = \"clad\"\n    clad.mult = \"fuel.mult\"\n    clad.shape = \"Circle\"\n    clad.material = \"HT9\"\n    clad.Tinput = ISOTHERMAL_TEMPERATURE_IN_C\n    clad.Thot = ISOTHERMAL_TEMPERATURE_IN_C\n    clad.id = 0.508\n    clad.od = 0.5842\n\n    gap = componentBlueprint.ComponentBlueprint()\n    gap.name = \"gap\"\n    gap.shape = \"Circle\"\n    gap.mult = \"fuel.mult\"\n    gap.material = \"Void\"\n    gap.Tinput = ISOTHERMAL_TEMPERATURE_IN_C\n    gap.Thot = ISOTHERMAL_TEMPERATURE_IN_C\n    gap.id = \"fuel.od\"\n    gap.od = \"clad.id\"\n\n    wire = componentBlueprint.ComponentBlueprint()\n    wire.name = \"wire\"\n    wire.mult = \"fuel.mult\"\n    wire.shape = \"Helix\"\n    wire.material = \"HT9\"\n    wire.Tinput = ISOTHERMAL_TEMPERATURE_IN_C\n    wire.Thot = ISOTHERMAL_TEMPERATURE_IN_C\n    wire.id = 0.0\n    wire.od = 0.14224\n    wire.axialPitch = 30.48\n    wire.helixDiameter = 0.72644\n\n    duct = componentBlueprint.ComponentBlueprint()\n    duct.name = \"duct\"\n    duct.mult = 1\n    duct.shape = \"Hexagon\"\n    duct.material = \"HT9\"\n    duct.Tinput = ISOTHERMAL_TEMPERATURE_IN_C\n    duct.Thot = ISOTHERMAL_TEMPERATURE_IN_C\n    duct.ip = 11.0109\n    duct.op = 11.6205\n\n    intercoolant = componentBlueprint.ComponentBlueprint()\n    intercoolant.name = \"intercoolant\"\n    intercoolant.mult = 1\n    intercoolant.shape = \"Hexagon\"\n    intercoolant.material = \"Sodium\"\n    intercoolant.Tinput = ISOTHERMAL_TEMPERATURE_IN_C\n    intercoolant.Thot = ISOTHERMAL_TEMPERATURE_IN_C\n    intercoolant.ip = \"duct.op\"\n    intercoolant.op = 12.01420\n\n    coolant = componentBlueprint.ComponentBlueprint()\n    coolant.name = \"coolant\"\n    coolant.shape = \"DerivedShape\"\n    coolant.material = \"Sodium\"\n    coolant.Tinput = ISOTHERMAL_TEMPERATURE_IN_C\n    coolant.Thot = ISOTHERMAL_TEMPERATURE_IN_C\n\n    componentBlueprints = {\n        c.name: c for c in [fuel, gap, clad, wire, duct, intercoolant, coolant]\n    }\n\n    return componentBlueprints\n\n\ndef buildBlocks(components):\n    \"\"\"Build block blueprints\"\"\"\n    blocks = blockBlueprint.BlockKeyedList()\n    fuel = blockBlueprint.BlockBlueprint()\n    fuel.name = \"fuel\"\n    for cname, c in components.items():\n        fuel[cname] = c\n    blocks[fuel.name] = fuel\n\n    reflector = blockBlueprint.BlockBlueprint()\n    reflector.name = \"reflector\"\n    reflector[\"coolant\"] = components[\"coolant\"]\n    reflector[\"duct\"] = components[\"duct\"]\n    blocks[reflector.name] = reflector\n\n    return blocks\n\n\ndef buildAssemblies(blockDesigns):\n    \"\"\"Build assembly blueprints\"\"\"\n    fuelBock, reflectorBlock = blockDesigns[\"fuel\"], blockDesigns[\"reflector\"]\n\n    assemblies = assemblyBlueprint.AssemblyKeyedList()\n\n    fuelAssem = assemblyBlueprint.AssemblyBlueprint()\n    fuelAssem.name = \"Fuel\"\n    fuelAssem.specifier = \"IC\"\n\n    fuelAssem.blocks = blockBlueprint.BlockList()\n    fuelAssem.blocks.extend(\n        [reflectorBlock, fuelBock, fuelBock, fuelBock, reflectorBlock]\n    )\n    fuelAssem.height = [10, 20, 20, 20, 10]\n    fuelAssem.xsTypes = [\"A\"] * 5\n    fuelAssem.axialMeshPoints = [1] * 5\n\n    assemblies[fuelAssem.name] = fuelAssem\n\n    reflectorAssem = assemblyBlueprint.AssemblyBlueprint()\n    reflectorAssem.name = \"Reflector\"\n    reflectorAssem.specifier = \"RR\"\n    reflectorAssem.blocks = blockBlueprint.BlockList()\n    reflectorAssem.blocks.extend([reflectorBlock] * 5)\n    reflectorAssem.height = [10, 20, 20, 20, 10]\n    reflectorAssem.xsTypes = [\"A\"] * 5\n    reflectorAssem.axialMeshPoints = [1] * 5\n    assemblies[reflectorAssem.name] = reflectorAssem\n\n    return assemblies\n\n\ndef buildGrids():\n    \"\"\"Build the core map grid\"\"\"\n\n    coreGrid = gridBlueprint.GridBlueprint(\"core\")\n    coreGrid.geom = \"hex\"\n    coreGrid.symmetry = \"third periodic\"\n    coreGrid.origin = gridBlueprint.Triplet()\n\n    coreGrid.latticeMap = \"\"\"\n         RR   RR\n           IC   RR\n         IC   IC   RR\"\"\"\n\n    grids = gridBlueprint.Grids()\n    grids[\"core\"] = coreGrid\n    return grids\n\n\ndef buildSystems():\n    \"\"\"Build the core system\"\"\"\n    systems = reactorBlueprint.Systems()\n    core = reactorBlueprint.SystemBlueprint(\"core\", \"core\", gridBlueprint.Triplet())\n    systems[\"core\"] = core\n    return systems\n\n\nif __name__ == \"__main__\":\n    case = buildCase()\n    # build ARMI objects\n    o = case.initializeOperator()\n    fig = plotting.plotAssemblyTypes(\n        case.bp,\n        None,\n        showBlockAxMesh=True,\n    )\n    plt.show()\n\n    # also write input files\n    case.writeInputs()"
      ]
    }
  ],
  "metadata": {
    "kernelspec": {
      "display_name": "Python 3",
      "language": "python",
      "name": "python3"
    },
    "language_info": {
      "codemirror_mode": {
        "name": "ipython",
        "version": 3
      },
      "file_extension": ".py",
      "mimetype": "text/x-python",
      "name": "python",
      "nbconvert_exporter": "python",
      "pygments_lexer": "ipython3",
      "version": "3.8.14"
    }
  },
  "nbformat": 4,
  "nbformat_minor": 0
}