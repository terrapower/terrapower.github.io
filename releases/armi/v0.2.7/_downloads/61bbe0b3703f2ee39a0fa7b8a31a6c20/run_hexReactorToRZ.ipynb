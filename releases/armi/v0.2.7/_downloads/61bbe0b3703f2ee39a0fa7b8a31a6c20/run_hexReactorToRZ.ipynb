{
  "cells": [
    {
      "cell_type": "code",
      "execution_count": null,
      "metadata": {
        "collapsed": false
      },
      "outputs": [],
      "source": [
        "%matplotlib inline"
      ]
    },
    {
      "cell_type": "markdown",
      "metadata": {},
      "source": [
        "\n# Hex reactor to RZ geometry conversion\nThis shows how an entire reactor specified in full hex detail can be\nautomatically converted to a 2-D or 3-D RZ case with conserved mass.\n\n<div class=\"alert alert-danger\"><h4>Warning</h4><p>This uses :py:mod:`armi.reactor.converters.geometryConverters`, which\n    will only work on a constrained set of hex-based geometries. For your systems,\n    consider these an example and starting point and build your own converters as\n    appropriate.</p></div>\n"
      ]
    },
    {
      "cell_type": "code",
      "execution_count": null,
      "metadata": {
        "collapsed": false
      },
      "outputs": [],
      "source": [
        "# sphinx_gallery_thumbnail_number=2\nimport math\n\nimport matplotlib.pyplot as plt\n\nfrom armi.reactor.tests import test_reactors\nfrom armi.reactor.flags import Flags\nfrom armi.reactor.converters import geometryConverters\nfrom armi.utils import plotting\nfrom armi import configure, runLog\n\n# configure ARMI\nconfigure(permissive=True)\n\no, r = test_reactors.loadTestReactor()\nkgFis = [a.getHMMass() for a in r.core]\nplotting.plotFaceMap(r.core, data=kgFis, labelFmt=\"{:.1e}\")\n\nconverterSettings = {\n    \"radialConversionType\": \"Ring Compositions\",\n    \"axialConversionType\": \"Axial Coordinates\",\n    \"uniformThetaMesh\": True,\n    \"thetaBins\": 1,\n    \"axialMesh\": [50, 100, 150, 175],\n    \"thetaMesh\": [2 * math.pi],\n}\n\nconverter = geometryConverters.HexToRZConverter(o.cs, converterSettings)\n# makes new reactor in converter.convReactor\nconverter.convert(r)\nfigs = converter.plotConvertedReactor()\n\nplt.show()"
      ]
    }
  ],
  "metadata": {
    "kernelspec": {
      "display_name": "Python 3",
      "language": "python",
      "name": "python3"
    },
    "language_info": {
      "codemirror_mode": {
        "name": "ipython",
        "version": 3
      },
      "file_extension": ".py",
      "mimetype": "text/x-python",
      "name": "python",
      "nbconvert_exporter": "python",
      "pygments_lexer": "ipython3",
      "version": "3.9.16"
    }
  },
  "nbformat": 4,
  "nbformat_minor": 0
}